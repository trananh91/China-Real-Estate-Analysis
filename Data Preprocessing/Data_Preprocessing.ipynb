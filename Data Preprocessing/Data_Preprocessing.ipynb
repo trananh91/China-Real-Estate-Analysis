{
 "cells": [
  {
   "cell_type": "code",
   "execution_count": 1,
   "metadata": {},
   "outputs": [],
   "source": [
    "# pip install ipykernel"
   ]
  },
  {
   "cell_type": "code",
   "execution_count": 2,
   "metadata": {},
   "outputs": [],
   "source": [
    "# pip install easyocr torch"
   ]
  },
  {
   "cell_type": "code",
   "execution_count": 3,
   "metadata": {},
   "outputs": [],
   "source": [
    "# pip install pandas"
   ]
  },
  {
   "cell_type": "code",
   "execution_count": null,
   "metadata": {},
   "outputs": [],
   "source": [
    "# pip install requests"
   ]
  },
  {
   "cell_type": "code",
   "execution_count": null,
   "metadata": {},
   "outputs": [],
   "source": [
    "# pip install pyspellchecker\n"
   ]
  },
  {
   "cell_type": "code",
   "execution_count": 2,
   "metadata": {},
   "outputs": [],
   "source": [
    "import numpy as np\n",
    "import pandas as pd\n",
    "import os\n",
    "from typing import List \n",
    "import easyocr\n",
    "import re\n",
    "import requests\n",
    "import shutil\n",
    "from spellchecker import SpellChecker"
   ]
  },
  {
   "cell_type": "markdown",
   "metadata": {},
   "source": [
    "## Download images"
   ]
  },
  {
   "cell_type": "code",
   "execution_count": null,
   "metadata": {},
   "outputs": [],
   "source": [
    "def download_image(url, save_folder):\n",
    "    # Send a HTTP request to the specified URL\n",
    "    response = requests.get(url, stream=True)\n",
    "    # Check if the request was successful\n",
    "    if response.status_code == 200:\n",
    "        # Extract the filename from the URL\n",
    "        filename = url.split('/')[-1]\n",
    "        # Construct the full path to save the image (relative to the current directory)\n",
    "        save_path = os.path.join(os.getcwd(), save_folder, filename)\n",
    "        # Open the specified file path in write-binary mode\n",
    "        with open(save_path, 'wb') as out_file:\n",
    "            # Copy the content of the response to the file\n",
    "            shutil.copyfileobj(response.raw, out_file)\n",
    "        print(f\"Image successfully downloaded: {save_path}\")\n",
    "    else:\n",
    "        print(f\"Failed to retrieve image. HTTP Status code: {response.status_code}\")\n",
    "\n",
    "# URL of the image to be downloaded\n",
    "image_url = 'https://www.stats.gov.cn/sj/ndsj/2023/html/E19-03.jpg'\n",
    "# Folder where the image will be saved (relative path)\n",
    "save_folder = 'Real_estate'\n",
    "\n",
    "# Download the image\n",
    "download_image(image_url, save_folder)"
   ]
  },
  {
   "cell_type": "markdown",
   "metadata": {},
   "source": [
    "## OCR"
   ]
  },
  {
   "cell_type": "code",
   "execution_count": 3,
   "metadata": {},
   "outputs": [
    {
     "name": "stderr",
     "output_type": "stream",
     "text": [
      "Using CPU. Note: This module is much faster with a GPU.\n"
     ]
    }
   ],
   "source": [
    "reader = easyocr.Reader(['en'], gpu=False)"
   ]
  },
  {
   "cell_type": "code",
   "execution_count": 4,
   "metadata": {},
   "outputs": [],
   "source": [
    "def ocr_scan(image_path: str) -> str:\n",
    "    result = reader.readtext(str(image_path))\n",
    "    # print(\"Result: \", result)\n",
    "    # for element in result:\n",
    "    #     print(\"Element: \", element)\n",
    "        \n",
    "    recognized = \" \".join(element[1] for element in result)\n",
    "    return recognized"
   ]
  },
  {
   "cell_type": "code",
   "execution_count": 26,
   "metadata": {},
   "outputs": [],
   "source": [
    "img_path = \"Real estate\\E19-01.jpg\" # Main indicator of real estate\n",
    "real_estate_indicator = ocr_scan(img_path)"
   ]
  },
  {
   "cell_type": "code",
   "execution_count": 8,
   "metadata": {},
   "outputs": [
    {
     "data": {
      "text/plain": [
       "'19-1 Main Indicators of Enterprises for Real Estate Development Item 2019 2020 2021 2022 Number ofEnterprises (unit) 99544 103262 105434 102852 Domestic Invested 95691 99150 101374 99054 State Otned Enterprises 671 1133 1209 1387 Collective-owned Enterprises 230 227 208 185 Enterprises with Investment from Hong Kong; Macao and Taiwan 2664 2759 2703 2550 Foreign Invested 1189 1353 1357 1248 Arerage Number Employed ersons (10 000 persons) 293.74 290.13 280.16 244.67 Domestic Invested 278.41 274.65 265.76 232.80 State Otned Enterprises 2.51 3.65 3.54 3.74 Collective-owned Enterprises 0.50 0.41 Enterprises with Investment from Hong Kong; Macao and Taiwan 10.37 10.19 9.24 Foreign Invested 4.95 5.29 5.15 Area of Land Purchased in the Year (10 000 sq.m) 25822.3 25536.3 21589_ 10041.7 ntesmment Completed in the Year (100 million yuan) 127746.8 136438.2 142247.7 128074.6 Residential Buildings 93572.4 100488.2 106855_ 96735 Actual Funds in Place in the Year (100 million yuan) 178608.6 193114.9 201132.2 148357.3 Domestic Loans 25228 26675.9 23295 17359 Foreign Investment 175.7 192.0 107.4 78.0 Self-raised Fund 58157.8 63376.6 65427.7 52525 Floor Space of Buildings (10 000 sq.m) Floor Space Under Construction 893820_ 926759.2 975386_ 904091_ Floor Space Completed 95941.5 91218.2 101411.9 85857 Floor Space Started in the Year 227153.6 224433_ 198895_ 120107.4 Residential Buile 167463.4 164328.5 146378.6 87748 Floor Space of Commercia) Sold (10 000 sg.m) 164531.4 168560.4 171414.6 129766.4 Residential Buildings 144040.2 148315.9 149602.3 109564 Arerage Price Commercial - Buildings(vuan/sg-m) 9469 10030 10323 9991 Residential Buildings 9454 10159 10590 10375 Paid-in Capital (100 million 105248.8 116652.0 127272.2 134049.7 Ratio of Liabilities Assets 80.4 80.7 80.3 79. Rerenue from Principal Business (100 million yuan) 110239.8 118582.1 134342.2 123052.0 Income from Land Transfer 874.1 747 769 709_ a) Average selling price of commercial buildings calculated by total value of sale of newly-built commercial buildings divided by floor space sold during report period Selling prices ofbuildings during different periods are affected by location and type of buildings etc. The same applies to the relevant following tables. dings Buildings Selling Jua)'"
      ]
     },
     "execution_count": 8,
     "metadata": {},
     "output_type": "execute_result"
    }
   ],
   "source": [
    "real_estate_indicator"
   ]
  },
  {
   "cell_type": "markdown",
   "metadata": {},
   "source": [
    "### Spellchecker"
   ]
  },
  {
   "cell_type": "code",
   "execution_count": 36,
   "metadata": {},
   "outputs": [
    {
     "name": "stdout",
     "output_type": "stream",
     "text": [
      "State\n",
      "owned\n",
      "Enterprises\n"
     ]
    }
   ],
   "source": [
    "# from spellchecker import SpellChecker\n",
    "\n",
    "# Initialize spell checker\n",
    "spell_checker = SpellChecker()\n",
    "\n",
    "# Test sentence\n",
    "sentence = \"State Otned Enterprises\"\n",
    "\n",
    "# Split sentence into words\n",
    "words = sentence.split()\n",
    "\n",
    "# Check each word\n",
    "for word in words:\n",
    "    # if spell_checker.correction(word) == word:\n",
    "    #     print(f\"{word} is spelled correctly.\")\n",
    "    # else:\n",
    "    #     suggestions = spell_checker.candidates(word)\n",
    "    #     print(f\"{word} is misspelled. Suggestions: {suggestions}\")\n",
    "    print(spell_checker.correction(word))\n"
   ]
  },
  {
   "cell_type": "markdown",
   "metadata": {},
   "source": [
    "## Save into txt file"
   ]
  },
  {
   "cell_type": "markdown",
   "metadata": {},
   "source": [
    "### Remove the title of the table"
   ]
  },
  {
   "cell_type": "code",
   "execution_count": 25,
   "metadata": {},
   "outputs": [
    {
     "name": "stdout",
     "output_type": "stream",
     "text": [
      "Number ofEnterprises (unit) 99544 103262 105434 102852 Domestic Invested 95691 99150 101374 99054 State Otned Enterprises 671 1133 1209 1387 Collective-owned Enterprises 230 227 208 185 Enterprises with Investment from Hong Kong; Macao and Taiwan 2664 2759 2703 2550 Foreign Invested 1189 1353 1357 1248 Arerage Number Employed ersons (10 000 persons) 293.74 290.13 280.16 244.67 Domestic Invested 278.41 274.65 265.76 232.80 State Otned Enterprises 2.51 3.65 3.54 3.74 Collective-owned Enterprises 0.50 0.41 Enterprises with Investment from Hong Kong; Macao and Taiwan 10.37 10.19 9.24 Foreign Invested 4.95 5.29 5.15 Area of Land Purchased in the Year (10 000 sq.m) 25822.3 25536.3 21589_ 10041.7 ntesmment Completed in the Year (100 million yuan) 127746.8 136438.2 142247.7 128074.6 Residential Buildings 93572.4 100488.2 106855_ 96735 Actual Funds in Place in the Year (100 million yuan) 178608.6 193114.9 201132.2 148357.3 Domestic Loans 25228 26675.9 23295 17359 Foreign Investment 175.7 192.0 107.4 78.0 Self-raised Fund 58157.8 63376.6 65427.7 52525 Floor Space of Buildings (10 000 sq.m) Floor Space Under Construction 893820_ 926759.2 975386_ 904091_ Floor Space Completed 95941.5 91218.2 101411.9 85857 Floor Space Started in the Year 227153.6 224433_ 198895_ 120107.4 Residential Buile 167463.4 164328.5 146378.6 87748 Floor Space of Commercia) Sold (10 000 sg.m) 164531.4 168560.4 171414.6 129766.4 Residential Buildings 144040.2 148315.9 149602.3 109564 Arerage Price Commercial - Buildings(vuan/sg-m) 9469 10030 10323 9991 Residential Buildings 9454 10159 10590 10375 Paid-in Capital (100 million 105248.8 116652.0 127272.2 134049.7 Ratio of Liabilities Assets 80.4 80.7 80.3 79. Rerenue from Principal Business (100 million yuan) 110239.8 118582.1 134342.2 123052.0 Income from Land Transfer 874.1 747 769 709_ a) Average selling price of commercial buildings calculated by total value of sale of newly-built commercial buildings divided by floor space sold during report period Selling prices ofbuildings during different periods are affected by location and type of buildings etc. The same applies to the relevant following tables. dings Buildings Selling Jua)\n"
     ]
    }
   ],
   "source": [
    "ex_paragraph = real_estate_indicator\n",
    "\n",
    "# Sentence to be removed\n",
    "sentence_to_remove = \"19-1 Main Indicators of Enterprises for Real Estate Development Item 2019 2020 2021 2022\"\n",
    "\n",
    "# Define a function to remove the specified sentence\n",
    "def remove_sentence(paragraph, sentence):\n",
    "    # Escape special characters in the sentence for regex\n",
    "    escaped_sentence = re.escape(sentence)\n",
    "    # Use regex to remove the sentence and any extra whitespace that may be left\n",
    "    modified_paragraph = re.sub(r'\\s*{}\\s*'.format(escaped_sentence), ' ', paragraph)\n",
    "    # Clean up any extra spaces created by removal\n",
    "    modified_paragraph = re.sub(r'\\s{2,}', ' ', modified_paragraph).strip()\n",
    "    return modified_paragraph\n",
    "\n",
    "# Remove the specified sentence from the paragraph\n",
    "updated_paragraph = remove_sentence(ex_paragraph, sentence_to_remove)\n",
    "\n",
    "# Display the updated paragraph\n",
    "print(updated_paragraph)"
   ]
  },
  {
   "cell_type": "markdown",
   "metadata": {},
   "source": [
    "### Save into txt file"
   ]
  },
  {
   "cell_type": "code",
   "execution_count": 28,
   "metadata": {},
   "outputs": [],
   "source": [
    "# import re\n",
    "\n",
    "def separate_paragraph(paragraph):\n",
    "    # Define the regex pattern to find groups of words followed by 3 to 4 consecutive numbers\n",
    "    # pattern = re.compile(r'([a-zA-Z\\s]+)((?:\\s\\d+(?:\\.\\d+)?){2,4})')\n",
    "    # pattern = re.compile(r'([a-zA-Z\\s\\(\\)]+)((?:\\s\\d+(?:\\.\\d+)?){2,4})')\n",
    "    pattern = re.compile(r'([a-zA-Z\\s\\(\\)_]+)((?:\\s\\d+(?:\\.\\d+)?_?){2,4})')\n",
    "    \n",
    "    # Find all matches in the paragraph\n",
    "    matches = pattern.findall(paragraph)\n",
    "    \n",
    "    lines = []\n",
    "    for match in matches:\n",
    "        # Combine the words part and the numbers part into a single line\n",
    "        words = match[0].strip()\n",
    "        numbers = match[1].strip()\n",
    "        line = f\"{words} {numbers}\"\n",
    "        lines.append(line)\n",
    "    \n",
    "    return lines\n",
    "\n",
    "# Example input paragraph\n",
    "paragraph = updated_paragraph\n",
    "\n",
    "# Call the function and print the results\n",
    "lines = separate_paragraph(paragraph)\n",
    "\n",
    "output_e19_01 = \"Txt_files\\Real_estate\\E19_01.txt\"\n",
    "\n",
    "with open(output_e19_01, 'w') as file:\n",
    "    for line in lines:\n",
    "        file.write(line + '\\n')\n",
    "\n",
    "# for line in lines:\n",
    "#     print(line)\n"
   ]
  },
  {
   "cell_type": "markdown",
   "metadata": {},
   "source": [
    "### Read from txt file to create pandas data frame"
   ]
  },
  {
   "cell_type": "code",
   "execution_count": null,
   "metadata": {},
   "outputs": [],
   "source": [
    "def separate_lines(lines):\n",
    "    # Define the regex pattern to find groups of words followed by 3 to 4 consecutive numbers\n",
    "    pattern = re.compile(r'([a-zA-Z\\s\\(\\)_]+)((?:\\s\\d+(?:\\.\\d+)?_?){2,4})')\n",
    "    \n",
    "    data = []\n",
    "    for line in lines:\n",
    "        # Match the line with the regex pattern\n",
    "        match = pattern.match(line)\n",
    "        if match:\n",
    "            words = match.group(1).strip()\n",
    "            numbers = match.group(2).strip().split()\n",
    "            \n",
    "            # Ensure numbers length is exactly 4\n",
    "            while len(numbers) < 4:\n",
    "                numbers.append(None)  # Fill missing numbers with None\n",
    "            \n",
    "            # Append the data row\n",
    "            data.append([words] + numbers[:4])\n",
    "    \n",
    "    return data\n",
    "\n",
    "# Specify the input text file name\n",
    "input_txt = 'output.txt'\n",
    "\n",
    "# Read lines from the text file\n",
    "with open(input_txt, 'r') as file:\n",
    "    lines = file.readlines()\n",
    "\n",
    "# Strip newline characters from each line\n",
    "lines = [line.strip() for line in lines if line.strip()]\n",
    "\n",
    "# Call the function to get the results\n",
    "data = separate_lines(lines)\n",
    "\n",
    "# Create a DataFrame with the specified columns\n",
    "df = pd.DataFrame(data, columns=['Item', 'Year 1', 'Year 2', 'Year 3', 'Year 4'])\n",
    "\n",
    "# Specify the output CSV file name\n",
    "output_csv = 'output.csv'\n",
    "\n",
    "# Write the DataFrame to the CSV file\n",
    "df.to_csv(output_csv, index=False)\n",
    "\n",
    "print(f\"The DataFrame has been saved to {output_csv}\")\n",
    "\n",
    "# Display the DataFrame\n",
    "print(df)"
   ]
  },
  {
   "cell_type": "markdown",
   "metadata": {},
   "source": [
    "## 2nd test (Đoạn này t đang test ở ảnh khác, không cần để ý)"
   ]
  },
  {
   "cell_type": "code",
   "execution_count": 6,
   "metadata": {},
   "outputs": [],
   "source": [
    "img_path = \"Real_estate\\E19-02.jpg\" # Number of enterprises for real estate development (7 cols)\n",
    "real_estate_enterprises = ocr_scan(img_path)"
   ]
  },
  {
   "cell_type": "code",
   "execution_count": 7,
   "metadata": {},
   "outputs": [
    {
     "data": {
      "text/plain": [
       "'19-2 Number of Enterprises for Real Estate Development (unit) Number of Domestic Enterprises Foreign Year Enterprises Invested State-owned Collective- with Investnent Invested Region Enterprises Enterprises owned from Hong Kong; Enterprises Enterprises Macao and Taiwan 998 24378 19960 7958 4538 3214 1204 2000 27303 23277 6641 3492 2899 1127 2005 56290 50957 4145 1796 3443 1890 2006 58710 53268 3797 1586 3519 1923 2007 62518 56965 3617 1430 3524 2029 2008 87562 81282 3941 1520 3916 2364 2009 80407 74674 3835 1361 3633 2100 2010 85218 79489 3685 1220 3677 2052 2011 88419 83011 3427 1023 3565 1843 2012 89859 84695 3354 904 3451 1713 2013 91444 86379 1739 570 3391 1674 201- 94197 89218 1476 457 3414 1565 2015 93426 88773 1329 409 3235 1418 2016 94948 90408 1093 364 3232 1308 2017 95897 91608 943 319 3066 1223 2018 97937 94063 767 280 2719 1155 2019 99544 95691 671 230 2664 1189 2020 103262 99150 1133 227 2759 1353 2021 105434 101374 1209 208 2703 1357 2022 102852 99054 1387 185 2550 1248 Beijing 1182 1109 Tianjin 1127 1064 Hebei 4036 4002 Shanxi 2768 2756 Inner Mongolia 1711 1710 Liaoning 2757 2558 149 Jilin 1444 1432 Heilongjiang 1359 1344 Shanghai 2660 2297 128 267 Jiangsu 7146 5574 188 426 146 Zhejiang 6599 5341 130 128 Anhui 3962 902 Fujian 3426 3162 154 110 Jiangxi 2992 2925 Shandong 7681 7380 141 212 Henan 8373 8298 Hubei 4174 4081 101 Hunan 4678 4586 Guangdong 9649 8817 172 601 Guangxi 3242 3168 Hainan 1214 1162 Chongqing 2210 2108 Sichuan 4755 4678 Guizhou 2673 2650 Yunnan 2851 2817 Tibet 130 130 Shaanxi 2966 2930 Gansu 1687 683 Qinghai 325 Ningxia 580 575 Xinjiang 2495 2491'"
      ]
     },
     "execution_count": 7,
     "metadata": {},
     "output_type": "execute_result"
    }
   ],
   "source": [
    "real_estate_enterprises"
   ]
  },
  {
   "cell_type": "code",
   "execution_count": 10,
   "metadata": {},
   "outputs": [
    {
     "name": "stdout",
     "output_type": "stream",
     "text": [
      "998 24378 19960 7958 4538 3214 1204 2000 27303 23277 6641 3492 2899 1127 2005 56290 50957 4145 1796 3443 1890 2006 58710 53268 3797 1586 3519 1923 2007 62518 56965 3617 1430 3524 2029 2008 87562 81282 3941 1520 3916 2364 2009 80407 74674 3835 1361 3633 2100 2010 85218 79489 3685 1220 3677 2052 2011 88419 83011 3427 1023 3565 1843 2012 89859 84695 3354 904 3451 1713 2013 91444 86379 1739 570 3391 1674 201- 94197 89218 1476 457 3414 1565 2015 93426 88773 1329 409 3235 1418 2016 94948 90408 1093 364 3232 1308 2017 95897 91608 943 319 3066 1223 2018 97937 94063 767 280 2719 1155 2019 99544 95691 671 230 2664 1189 2020 103262 99150 1133 227 2759 1353 2021 105434 101374 1209 208 2703 1357 2022 102852 99054 1387 185 2550 1248 Beijing 1182 1109 Tianjin 1127 1064 Hebei 4036 4002 Shanxi 2768 2756 Inner Mongolia 1711 1710 Liaoning 2757 2558 149 Jilin 1444 1432 Heilongjiang 1359 1344 Shanghai 2660 2297 128 267 Jiangsu 7146 5574 188 426 146 Zhejiang 6599 5341 130 128 Anhui 3962 902 Fujian 3426 3162 154 110 Jiangxi 2992 2925 Shandong 7681 7380 141 212 Henan 8373 8298 Hubei 4174 4081 101 Hunan 4678 4586 Guangdong 9649 8817 172 601 Guangxi 3242 3168 Hainan 1214 1162 Chongqing 2210 2108 Sichuan 4755 4678 Guizhou 2673 2650 Yunnan 2851 2817 Tibet 130 130 Shaanxi 2966 2930 Gansu 1687 683 Qinghai 325 Ningxia 580 575 Xinjiang 2495 2491\n"
     ]
    }
   ],
   "source": [
    "ex_paragraph = real_estate_enterprises\n",
    "\n",
    "# Sentence to be removed\n",
    "sentence_to_remove = \"19-2 Number of Enterprises for Real Estate Development (unit) Number of Domestic Enterprises Foreign Year Enterprises Invested State-owned Collective- with Investnent Invested Region Enterprises Enterprises owned from Hong Kong; Enterprises Enterprises Macao and Taiwan\"\n",
    "\n",
    "# Define a function to remove the specified sentence\n",
    "def remove_sentence(paragraph, sentence):\n",
    "    # Escape special characters in the sentence for regex\n",
    "    escaped_sentence = re.escape(sentence)\n",
    "    # Use regex to remove the sentence and any extra whitespace that may be left\n",
    "    modified_paragraph = re.sub(r'\\s*{}\\s*'.format(escaped_sentence), ' ', paragraph)\n",
    "    # Clean up any extra spaces created by removal\n",
    "    modified_paragraph = re.sub(r'\\s{2,}', ' ', modified_paragraph).strip()\n",
    "    return modified_paragraph\n",
    "\n",
    "# Remove the specified sentence from the paragraph\n",
    "updated_paragraph = remove_sentence(ex_paragraph, sentence_to_remove)\n",
    "\n",
    "# Display the updated paragraph\n",
    "print(updated_paragraph)"
   ]
  },
  {
   "cell_type": "code",
   "execution_count": null,
   "metadata": {},
   "outputs": [],
   "source": [
    "# import re\n",
    "# import pandas as pd\n",
    "# from spellchecker import SpellChecker\n",
    "\n",
    "def correct_spelling(line, spell_checker):\n",
    "    # Split the line into words and check each word\n",
    "    corrected_words = []\n",
    "    for word in line.split():\n",
    "        # Correct the word if it is misspelled\n",
    "        corrected_word = spell_checker.correction(word) if word not in spell_checker else word\n",
    "        corrected_words.append(corrected_word)\n",
    "    return ' '.join(corrected_words)\n",
    "\n",
    "def separate_lines(lines, spell_checker):\n",
    "    # Define the regex pattern to find groups of words followed by 3 to 4 consecutive numbers\n",
    "    pattern = re.compile(r'([a-zA-Z\\s\\(\\)_]+)((?:\\s\\d+(?:\\.\\d+)?_?){3,4})')\n",
    "    \n",
    "    data = []\n",
    "    for line in lines:\n",
    "        # Correct the spelling of the line\n",
    "        corrected_line = correct_spelling(line, spell_checker)\n",
    "        \n",
    "        # Match the corrected line with the regex pattern\n",
    "        match = pattern.match(corrected_line)\n",
    "        if match:\n",
    "            words = match.group(1).strip()\n",
    "            numbers = match.group(2).strip().split()\n",
    "            \n",
    "            # Ensure numbers length is exactly 4\n",
    "            while len(numbers) < 4:\n",
    "                numbers.append(None)  # Fill missing numbers with None\n",
    "            \n",
    "            # Append the data row\n",
    "            data.append([words] + numbers[:4])\n",
    "    \n",
    "    return data\n",
    "\n",
    "# Specify the input text file name\n",
    "input_txt = 'Txt_files\\Real_estate\\E19_02.txt'\n",
    "\n",
    "# Create a spell checker instance\n",
    "spell_checker = SpellChecker()\n",
    "\n",
    "# Read lines from the text file\n",
    "with open(input_txt, 'r') as file:\n",
    "    lines = file.readlines()\n",
    "\n",
    "# Strip newline characters from each line and apply spell checking\n",
    "lines = [line.strip() for line in lines if line.strip()]\n",
    "\n",
    "# Call the function to get the results\n",
    "data = separate_lines(lines, spell_checker)\n",
    "\n",
    "# Create a DataFrame with the specified columns\n",
    "df = pd.DataFrame(data, columns=['Item', 'Year 1', 'Year 2', 'Year 3', 'Year 4'])\n",
    "\n",
    "# Specify the output CSV file name\n",
    "output_csv = 'output.csv'\n",
    "\n",
    "# Write the DataFrame to the CSV file\n",
    "df.to_csv(output_csv, index=False)\n",
    "\n",
    "print(f\"The DataFrame has been saved to {output_csv}\")\n",
    "\n",
    "# Display the DataFrame\n",
    "print(df)\n"
   ]
  }
 ],
 "metadata": {
  "kernelspec": {
   "display_name": "Python 3",
   "language": "python",
   "name": "python3"
  },
  "language_info": {
   "codemirror_mode": {
    "name": "ipython",
    "version": 3
   },
   "file_extension": ".py",
   "mimetype": "text/x-python",
   "name": "python",
   "nbconvert_exporter": "python",
   "pygments_lexer": "ipython3",
   "version": "3.11.9"
  }
 },
 "nbformat": 4,
 "nbformat_minor": 2
}
