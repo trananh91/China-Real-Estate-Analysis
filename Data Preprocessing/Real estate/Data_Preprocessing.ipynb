{
 "cells": [
  {
   "cell_type": "code",
   "execution_count": 1,
   "metadata": {},
   "outputs": [],
   "source": [
    "# pip install ipykernel"
   ]
  },
  {
   "cell_type": "code",
   "execution_count": 2,
   "metadata": {},
   "outputs": [],
   "source": [
    "# pip install easyocr torch"
   ]
  },
  {
   "cell_type": "code",
   "execution_count": 3,
   "metadata": {},
   "outputs": [],
   "source": [
    "# pip install pandas"
   ]
  },
  {
   "cell_type": "code",
   "execution_count": null,
   "metadata": {},
   "outputs": [],
   "source": [
    "# pip install requests"
   ]
  },
  {
   "cell_type": "code",
   "execution_count": null,
   "metadata": {},
   "outputs": [],
   "source": [
    "# pip install pyspellchecker\n"
   ]
  },
  {
   "cell_type": "code",
   "execution_count": null,
   "metadata": {},
   "outputs": [],
   "source": [
    "# pip install matplotlib"
   ]
  },
  {
   "cell_type": "code",
   "execution_count": 10,
   "metadata": {},
   "outputs": [
    {
     "name": "stderr",
     "output_type": "stream",
     "text": [
      "Matplotlib is building the font cache; this may take a moment.\n"
     ]
    }
   ],
   "source": [
    "import numpy as np\n",
    "import pandas as pd\n",
    "import os\n",
    "from typing import List \n",
    "import easyocr\n",
    "import re\n",
    "import requests\n",
    "import shutil\n",
    "from spellchecker import SpellChecker\n",
    "import matplotlib.pyplot as plt"
   ]
  },
  {
   "cell_type": "markdown",
   "metadata": {},
   "source": [
    "## Download images"
   ]
  },
  {
   "cell_type": "code",
   "execution_count": null,
   "metadata": {},
   "outputs": [],
   "source": [
    "# def download_image(url, save_folder):\n",
    "#     # Send a HTTP request to the specified URL\n",
    "#     response = requests.get(url, stream=True)\n",
    "#     # Check if the request was successful\n",
    "#     if response.status_code == 200:\n",
    "#         # Extract the filename from the URL\n",
    "#         filename = url.split('/')[-1]\n",
    "#         # Construct the full path to save the image (relative to the current directory)\n",
    "#         save_path = os.path.join(os.getcwd(), save_folder, filename)\n",
    "#         # Open the specified file path in write-binary mode\n",
    "#         with open(save_path, 'wb') as out_file:\n",
    "#             # Copy the content of the response to the file\n",
    "#             shutil.copyfileobj(response.raw, out_file)\n",
    "#         print(f\"Image successfully downloaded: {save_path}\")\n",
    "#     else:\n",
    "#         print(f\"Failed to retrieve image. HTTP Status code: {response.status_code}\")\n",
    "\n",
    "# # URL of the image to be downloaded\n",
    "# image_url = 'https://www.stats.gov.cn/sj/ndsj/2023/html/E19-03.jpg'\n",
    "# # Folder where the image will be saved (relative path)\n",
    "# save_folder = 'Real_estate'\n",
    "\n",
    "# # Download the image\n",
    "# download_image(image_url, save_folder)"
   ]
  },
  {
   "cell_type": "code",
   "execution_count": 5,
   "metadata": {},
   "outputs": [
    {
     "name": "stdout",
     "output_type": "stream",
     "text": [
      "Downloaded ..\\Data\\Raw\\Real_estate\\E19-04.jpg\n",
      "Downloaded ..\\Data\\Raw\\Real_estate\\E19-05.jpg\n",
      "Downloaded ..\\Data\\Raw\\Real_estate\\E19-06.jpg\n",
      "Downloaded ..\\Data\\Raw\\Real_estate\\E19-07.jpg\n",
      "Downloaded ..\\Data\\Raw\\Real_estate\\E19-08.jpg\n",
      "Downloaded ..\\Data\\Raw\\Real_estate\\E19-09.jpg\n",
      "Downloaded ..\\Data\\Raw\\Real_estate\\E19-10.jpg\n",
      "Downloaded ..\\Data\\Raw\\Real_estate\\E19-11.jpg\n",
      "Downloaded ..\\Data\\Raw\\Real_estate\\E19-12.jpg\n",
      "Downloaded ..\\Data\\Raw\\Real_estate\\E19-13.jpg\n",
      "Downloaded ..\\Data\\Raw\\Real_estate\\E19-14.jpg\n",
      "Downloaded ..\\Data\\Raw\\Real_estate\\E19-15.jpg\n",
      "Downloaded ..\\Data\\Raw\\Real_estate\\E19-16.jpg\n",
      "Downloaded ..\\Data\\Raw\\Real_estate\\E19-17.jpg\n"
     ]
    }
   ],
   "source": [
    "# # Download multiple images\n",
    "\n",
    "# # Function to download an image from a URL\n",
    "# def download_image(url, save_path):\n",
    "#     response = requests.get(url)\n",
    "#     if response.status_code == 200:\n",
    "#         with open(save_path, 'wb') as f:\n",
    "#             f.write(response.content)\n",
    "#         print(f\"Downloaded {save_path}\")\n",
    "#     else:\n",
    "#         print(f\"Failed to download {url}\")\n",
    "\n",
    "# # Base URL parts\n",
    "# base_url = \"https://www.stats.gov.cn/sj/ndsj/2023/html/E19-\"\n",
    "# file_extension = \".jpg\"\n",
    "\n",
    "# # Directory to save images\n",
    "# save_dir = \"..\\Data\\Raw\\Real_estate\"\n",
    "# # os.makedirs(save_dir, exist_ok=True)\n",
    "# os.makedirs(save_dir, exist_ok=True)  # Ensure the directory exists\n",
    "\n",
    "\n",
    "# # Range of numbers to download images\n",
    "# start_num = 4\n",
    "# end_num = 17\n",
    "\n",
    "# # Loop through the range and download each image\n",
    "# for i in range(start_num, end_num + 1):\n",
    "#     # Construct the URL\n",
    "#     image_num = f\"{i:02}\"  # Format number to be two digits\n",
    "#     url = f\"{base_url}{image_num}{file_extension}\"\n",
    "    \n",
    "#     # Construct the save path\n",
    "#     save_path = os.path.join(save_dir, f\"E19-{image_num}{file_extension}\")\n",
    "    \n",
    "#     # Download and save the image\n",
    "#     download_image(url, save_path)"
   ]
  },
  {
   "cell_type": "markdown",
   "metadata": {},
   "source": [
    "## OCR"
   ]
  },
  {
   "cell_type": "code",
   "execution_count": 2,
   "metadata": {},
   "outputs": [
    {
     "name": "stderr",
     "output_type": "stream",
     "text": [
      "Using CPU. Note: This module is much faster with a GPU.\n"
     ]
    }
   ],
   "source": [
    "reader = easyocr.Reader(['en'], gpu=False)"
   ]
  },
  {
   "cell_type": "code",
   "execution_count": 3,
   "metadata": {},
   "outputs": [],
   "source": [
    "def ocr_scan(image_path: str) -> str:\n",
    "    result = reader.readtext(str(image_path))\n",
    "    # print(\"Result: \", result)\n",
    "    # for element in result:\n",
    "    #     print(\"Element: \", element)\n",
    "        \n",
    "    recognized = \" \".join(element[1] for element in result)\n",
    "    return recognized"
   ]
  },
  {
   "cell_type": "markdown",
   "metadata": {},
   "source": [
    "## Preprocessing and Visualization"
   ]
  },
  {
   "cell_type": "markdown",
   "metadata": {},
   "source": [
    "### Image E19-01"
   ]
  },
  {
   "cell_type": "code",
   "execution_count": null,
   "metadata": {},
   "outputs": [],
   "source": [
    "img_path = \"..\\..\\Data\\Raw\\Real_estate\\E19-01.jpg\" # Main indicator of real estate\n",
    "real_estate_indicator = ocr_scan(img_path)"
   ]
  },
  {
   "cell_type": "code",
   "execution_count": 5,
   "metadata": {},
   "outputs": [
    {
     "data": {
      "text/plain": [
       "'19-2 Number of Enterprises for Real Estate Development (unit) Number of Domestic Enterprises Foreign Year Enterprises Invested State-owned Collective- with Investnent Invested Region Enterprises Enterprises owned from Hong Kong; Enterprises Enterprises Macao and Taiwan 998 24378 19960 7958 4538 3214 1204 2000 27303 23277 6641 3492 2899 1127 2005 56290 50957 4145 1796 3443 1890 2006 58710 53268 3797 1586 3519 1923 2007 62518 56965 3617 1430 3524 2029 2008 87562 81282 3941 1520 3916 2364 2009 80407 74674 3835 1361 3633 2100 2010 85218 79489 3685 1220 3677 2052 2011 88419 83011 3427 1023 3565 1843 2012 89859 84695 3354 904 3451 1713 2013 91444 86379 1739 570 3391 1674 201- 94197 89218 1476 457 3414 1565 2015 93426 88773 1329 409 3235 1418 2016 94948 90408 1093 364 3232 1308 2017 95897 91608 943 319 3066 1223 2018 97937 94063 767 280 2719 1155 2019 99544 95691 671 230 2664 1189 2020 103262 99150 1133 227 2759 1353 2021 105434 101374 1209 208 2703 1357 2022 102852 99054 1387 185 2550 1248 Beijing 1182 1109 Tianjin 1127 1064 Hebei 4036 4002 Shanxi 2768 2756 Inner Mongolia 1711 1710 Liaoning 2757 2558 149 Jilin 1444 1432 Heilongjiang 1359 1344 Shanghai 2660 2297 128 267 Jiangsu 7146 5574 188 426 146 Zhejiang 6599 5341 130 128 Anhui 3962 902 Fujian 3426 3162 154 110 Jiangxi 2992 2925 Shandong 7681 7380 141 212 Henan 8373 8298 Hubei 4174 4081 101 Hunan 4678 4586 Guangdong 9649 8817 172 601 Guangxi 3242 3168 Hainan 1214 1162 Chongqing 2210 2108 Sichuan 4755 4678 Guizhou 2673 2650 Yunnan 2851 2817 Tibet 130 130 Shaanxi 2966 2930 Gansu 1687 683 Qinghai 325 Ningxia 580 575 Xinjiang 2495 2491'"
      ]
     },
     "execution_count": 5,
     "metadata": {},
     "output_type": "execute_result"
    }
   ],
   "source": [
    "real_estate_indicator"
   ]
  },
  {
   "cell_type": "markdown",
   "metadata": {},
   "source": [
    "#### Spellchecker"
   ]
  },
  {
   "cell_type": "code",
   "execution_count": 36,
   "metadata": {},
   "outputs": [
    {
     "name": "stdout",
     "output_type": "stream",
     "text": [
      "State\n",
      "owned\n",
      "Enterprises\n"
     ]
    }
   ],
   "source": [
    "# from spellchecker import SpellChecker\n",
    "\n",
    "# Initialize spell checker\n",
    "# spell_checker = SpellChecker()\n",
    "\n",
    "# # Test sentence\n",
    "# sentence = \"State Otned Enterprises\"\n",
    "\n",
    "# # Split sentence into words\n",
    "# words = sentence.split()\n",
    "\n",
    "# # Check each word\n",
    "# for word in words:\n",
    "#     # if spell_checker.correction(word) == word:\n",
    "#     #     print(f\"{word} is spelled correctly.\")\n",
    "#     # else:\n",
    "#     #     suggestions = spell_checker.candidates(word)\n",
    "#     #     print(f\"{word} is misspelled. Suggestions: {suggestions}\")\n",
    "#     print(spell_checker.correction(word))\n"
   ]
  },
  {
   "cell_type": "markdown",
   "metadata": {},
   "source": [
    "#### Save into txt file"
   ]
  },
  {
   "cell_type": "markdown",
   "metadata": {},
   "source": [
    "##### Remove the title of the table"
   ]
  },
  {
   "cell_type": "code",
   "execution_count": 6,
   "metadata": {},
   "outputs": [
    {
     "name": "stdout",
     "output_type": "stream",
     "text": [
      "998 24378 19960 7958 4538 3214 1204 2000 27303 23277 6641 3492 2899 1127 2005 56290 50957 4145 1796 3443 1890 2006 58710 53268 3797 1586 3519 1923 2007 62518 56965 3617 1430 3524 2029 2008 87562 81282 3941 1520 3916 2364 2009 80407 74674 3835 1361 3633 2100 2010 85218 79489 3685 1220 3677 2052 2011 88419 83011 3427 1023 3565 1843 2012 89859 84695 3354 904 3451 1713 2013 91444 86379 1739 570 3391 1674 201- 94197 89218 1476 457 3414 1565 2015 93426 88773 1329 409 3235 1418 2016 94948 90408 1093 364 3232 1308 2017 95897 91608 943 319 3066 1223 2018 97937 94063 767 280 2719 1155 2019 99544 95691 671 230 2664 1189 2020 103262 99150 1133 227 2759 1353 2021 105434 101374 1209 208 2703 1357 2022 102852 99054 1387 185 2550 1248 Beijing 1182 1109 Tianjin 1127 1064 Hebei 4036 4002 Shanxi 2768 2756 Inner Mongolia 1711 1710 Liaoning 2757 2558 149 Jilin 1444 1432 Heilongjiang 1359 1344 Shanghai 2660 2297 128 267 Jiangsu 7146 5574 188 426 146 Zhejiang 6599 5341 130 128 Anhui 3962 902 Fujian 3426 3162 154 110 Jiangxi 2992 2925 Shandong 7681 7380 141 212 Henan 8373 8298 Hubei 4174 4081 101 Hunan 4678 4586 Guangdong 9649 8817 172 601 Guangxi 3242 3168 Hainan 1214 1162 Chongqing 2210 2108 Sichuan 4755 4678 Guizhou 2673 2650 Yunnan 2851 2817 Tibet 130 130 Shaanxi 2966 2930 Gansu 1687 683 Qinghai 325 Ningxia 580 575 Xinjiang 2495 2491\n"
     ]
    }
   ],
   "source": [
    "ex_paragraph = real_estate_indicator\n",
    "\n",
    "# Sentence to be removed\n",
    "sentence_to_remove = \"19-2 Number of Enterprises for Real Estate Development (unit) Number of Domestic Enterprises Foreign Year Enterprises Invested State-owned Collective- with Investnent Invested Region Enterprises Enterprises owned from Hong Kong; Enterprises Enterprises Macao and Taiwan \"\n",
    "\n",
    "# Define a function to remove the specified sentence\n",
    "def remove_sentence(paragraph, sentence):\n",
    "    # Escape special characters in the sentence for regex\n",
    "    escaped_sentence = re.escape(sentence)\n",
    "    # Use regex to remove the sentence and any extra whitespace that may be left\n",
    "    modified_paragraph = re.sub(r'\\s*{}\\s*'.format(escaped_sentence), ' ', paragraph)\n",
    "    # Clean up any extra spaces created by removal\n",
    "    modified_paragraph = re.sub(r'\\s{2,}', ' ', modified_paragraph).strip()\n",
    "    return modified_paragraph\n",
    "\n",
    "# Remove the specified sentence from the paragraph\n",
    "updated_paragraph = remove_sentence(ex_paragraph, sentence_to_remove)\n",
    "\n",
    "# Display the updated paragraph\n",
    "print(updated_paragraph)"
   ]
  },
  {
   "cell_type": "markdown",
   "metadata": {},
   "source": [
    "##### Save into txt file"
   ]
  },
  {
   "cell_type": "code",
   "execution_count": null,
   "metadata": {},
   "outputs": [],
   "source": [
    "spell_checker = SpellChecker()\n",
    "\n",
    "def separate_paragraph(paragraph):\n",
    "    # Define the regex pattern to find groups of words followed by 3 to 4 consecutive numbers\n",
    "    # pattern = re.compile(r'([a-zA-Z\\s]+)((?:\\s\\d+(?:\\.\\d+)?){2,4})')\n",
    "    # pattern = re.compile(r'([a-zA-Z\\s\\(\\)]+)((?:\\s\\d+(?:\\.\\d+)?){2,4})')\n",
    "    # pattern = re.compile(r'([a-zA-Z\\s\\(\\)_]+)((?:\\s\\d+(?:\\.\\d+)?_?){2,4})')\n",
    "    # pattern = re.compile(r'([a-zA-Z\\s\\-,\\(\\)._]+)((?:\\s\\d+(?:\\.\\d+)?_?){2,4})')\n",
    "    \n",
    "    # E19_01\n",
    "    # pattern = re.compile(r'([a-zA-Z\\s\\-,\\(\\)._]+)((?:\\s\\d+(?:\\.\\d+)?_?){2,4})')\n",
    "    \n",
    "    #E19_02\n",
    "    pattern = re.compile(r'((?:\\s\\d+(?:\\.\\d+)?_?)((?:\\s\\d+(?:\\.\\d+)?_?){4,6})')\n",
    "    \n",
    "    # Find all matches in the paragraph\n",
    "    matches = pattern.findall(paragraph)\n",
    "    \n",
    "    lines = []\n",
    "    for match in matches:\n",
    "        # Combine the words part and the numbers part into a single line\n",
    "        words = match[0].strip()\n",
    "        \n",
    "        # for word in words:\n",
    "        #     if spell_checker.correction(word) != word:\n",
    "        #         # print(f\"{word} is spelled correctly.\")\n",
    "        #         word = spell_checker.candidates(word)\n",
    "        #     # else:\n",
    "        #     #     suggestions = spell_checker.candidates(word)\n",
    "        #     #     print(f\"{word} is misspelled. Suggestions: {suggestions}\")\n",
    "        #     # print(spell_checker.correction(word))\n",
    "        \n",
    "        numbers = match[1].strip()\n",
    "        line = f\"{words} {numbers}\"\n",
    "        lines.append(line)\n",
    "    \n",
    "    return lines\n",
    "\n",
    "# Example input paragraph\n",
    "paragraph = updated_paragraph\n",
    "\n",
    "# Call the function and print the results\n",
    "lines = separate_paragraph(paragraph)\n",
    "\n",
    "output_e19_02 = \"..\\..\\Data\\Preprocessed\\preprocessed_txt\\Real_estate\\E19_02.txt\"\n",
    "\n",
    "# with open(output_e19_01, 'w') as file:\n",
    "#     for line in lines:\n",
    "#         file.write(line + '\\n')\n",
    "\n",
    "# for line in lines:\n",
    "#     print(line)\n"
   ]
  },
  {
   "cell_type": "markdown",
   "metadata": {},
   "source": [
    "##### Read from txt file to create pandas data frame"
   ]
  },
  {
   "cell_type": "code",
   "execution_count": null,
   "metadata": {},
   "outputs": [],
   "source": [
    "def separate_lines(lines):\n",
    "    # Define the regex pattern to find groups of words followed by 3 to 4 consecutive numbers\n",
    "    # pattern = re.compile(r'([a-zA-Z\\s\\(\\)_]+)((?:\\s\\d+(?:\\.\\d+)?_?){2,4})')\n",
    "    # pattern = re.compile(r'([a-zA-Z\\s\\-,\\(\\)]+)((?:\\s\\d+(?:\\.\\d+)?_?){2,4})')\n",
    "    pattern = re.compile(r'([a-zA-Z\\s\\-,\\(\\)._]+)((?:\\s\\d+(?:\\.\\d+)?_?){2,4})')\n",
    "    \n",
    "    data = []\n",
    "    for line in lines:\n",
    "        # Match the line with the regex pattern\n",
    "        match = pattern.match(line)\n",
    "        if match:\n",
    "            words = match.group(1).strip()\n",
    "            numbers = match.group(2).strip().split()\n",
    "            \n",
    "            # Ensure numbers length is exactly 4\n",
    "            while len(numbers) < 4:\n",
    "                numbers.append(None)  # Fill missing numbers with None\n",
    "            \n",
    "            # Append the data row\n",
    "            data.append([words] + numbers[:4])\n",
    "    \n",
    "    return data\n",
    "\n",
    "# Specify the input text file name\n",
    "input_txt = 'output.txt'\n",
    "\n",
    "# Read lines from the text file\n",
    "with open(input_txt, 'r') as file:\n",
    "    lines = file.readlines()\n",
    "\n",
    "# Strip newline characters from each line\n",
    "lines = [line.strip() for line in lines if line.strip()]\n",
    "\n",
    "# Call the function to get the results\n",
    "data = separate_lines(lines)\n",
    "\n",
    "# Create a DataFrame with the specified columns\n",
    "df = pd.DataFrame(data, columns=['Item', 'Year 1', 'Year 2', 'Year 3', 'Year 4'])\n",
    "\n",
    "# Specify the output CSV file name\n",
    "output_csv = 'output.csv'\n",
    "\n",
    "# Write the DataFrame to the CSV file\n",
    "df.to_csv(output_csv, index=False)\n",
    "\n",
    "print(f\"The DataFrame has been saved to {output_csv}\")\n",
    "\n",
    "# Display the DataFrame\n",
    "print(df)"
   ]
  },
  {
   "cell_type": "markdown",
   "metadata": {},
   "source": [
    "### Image E19-02"
   ]
  },
  {
   "cell_type": "code",
   "execution_count": 7,
   "metadata": {},
   "outputs": [],
   "source": [
    "img_path = \"..\\..\\Data\\Raw\\Real_estate\\E19-02.jpg\" # Number of enterprises for real estate development (7 cols)\n",
    "real_estate_enterprises = ocr_scan(img_path)"
   ]
  },
  {
   "cell_type": "code",
   "execution_count": 8,
   "metadata": {},
   "outputs": [
    {
     "data": {
      "text/plain": [
       "'19-2 Number of Enterprises for Real Estate Development (unit) Number of Domestic Enterprises Foreign Year Enterprises Invested State-owned Collective- with Investnent Invested Region Enterprises Enterprises owned from Hong Kong; Enterprises Enterprises Macao and Taiwan 998 24378 19960 7958 4538 3214 1204 2000 27303 23277 6641 3492 2899 1127 2005 56290 50957 4145 1796 3443 1890 2006 58710 53268 3797 1586 3519 1923 2007 62518 56965 3617 1430 3524 2029 2008 87562 81282 3941 1520 3916 2364 2009 80407 74674 3835 1361 3633 2100 2010 85218 79489 3685 1220 3677 2052 2011 88419 83011 3427 1023 3565 1843 2012 89859 84695 3354 904 3451 1713 2013 91444 86379 1739 570 3391 1674 201- 94197 89218 1476 457 3414 1565 2015 93426 88773 1329 409 3235 1418 2016 94948 90408 1093 364 3232 1308 2017 95897 91608 943 319 3066 1223 2018 97937 94063 767 280 2719 1155 2019 99544 95691 671 230 2664 1189 2020 103262 99150 1133 227 2759 1353 2021 105434 101374 1209 208 2703 1357 2022 102852 99054 1387 185 2550 1248 Beijing 1182 1109 Tianjin 1127 1064 Hebei 4036 4002 Shanxi 2768 2756 Inner Mongolia 1711 1710 Liaoning 2757 2558 149 Jilin 1444 1432 Heilongjiang 1359 1344 Shanghai 2660 2297 128 267 Jiangsu 7146 5574 188 426 146 Zhejiang 6599 5341 130 128 Anhui 3962 902 Fujian 3426 3162 154 110 Jiangxi 2992 2925 Shandong 7681 7380 141 212 Henan 8373 8298 Hubei 4174 4081 101 Hunan 4678 4586 Guangdong 9649 8817 172 601 Guangxi 3242 3168 Hainan 1214 1162 Chongqing 2210 2108 Sichuan 4755 4678 Guizhou 2673 2650 Yunnan 2851 2817 Tibet 130 130 Shaanxi 2966 2930 Gansu 1687 683 Qinghai 325 Ningxia 580 575 Xinjiang 2495 2491'"
      ]
     },
     "execution_count": 8,
     "metadata": {},
     "output_type": "execute_result"
    }
   ],
   "source": [
    "real_estate_enterprises"
   ]
  },
  {
   "cell_type": "code",
   "execution_count": 9,
   "metadata": {},
   "outputs": [
    {
     "name": "stdout",
     "output_type": "stream",
     "text": [
      "998 24378 19960 7958 4538 3214 1204 2000 27303 23277 6641 3492 2899 1127 2005 56290 50957 4145 1796 3443 1890 2006 58710 53268 3797 1586 3519 1923 2007 62518 56965 3617 1430 3524 2029 2008 87562 81282 3941 1520 3916 2364 2009 80407 74674 3835 1361 3633 2100 2010 85218 79489 3685 1220 3677 2052 2011 88419 83011 3427 1023 3565 1843 2012 89859 84695 3354 904 3451 1713 2013 91444 86379 1739 570 3391 1674 201- 94197 89218 1476 457 3414 1565 2015 93426 88773 1329 409 3235 1418 2016 94948 90408 1093 364 3232 1308 2017 95897 91608 943 319 3066 1223 2018 97937 94063 767 280 2719 1155 2019 99544 95691 671 230 2664 1189 2020 103262 99150 1133 227 2759 1353 2021 105434 101374 1209 208 2703 1357 2022 102852 99054 1387 185 2550 1248 Beijing 1182 1109 Tianjin 1127 1064 Hebei 4036 4002 Shanxi 2768 2756 Inner Mongolia 1711 1710 Liaoning 2757 2558 149 Jilin 1444 1432 Heilongjiang 1359 1344 Shanghai 2660 2297 128 267 Jiangsu 7146 5574 188 426 146 Zhejiang 6599 5341 130 128 Anhui 3962 902 Fujian 3426 3162 154 110 Jiangxi 2992 2925 Shandong 7681 7380 141 212 Henan 8373 8298 Hubei 4174 4081 101 Hunan 4678 4586 Guangdong 9649 8817 172 601 Guangxi 3242 3168 Hainan 1214 1162 Chongqing 2210 2108 Sichuan 4755 4678 Guizhou 2673 2650 Yunnan 2851 2817 Tibet 130 130 Shaanxi 2966 2930 Gansu 1687 683 Qinghai 325 Ningxia 580 575 Xinjiang 2495 2491\n"
     ]
    }
   ],
   "source": [
    "ex_paragraph = real_estate_enterprises\n",
    "\n",
    "# Sentence to be removed\n",
    "sentence_to_remove = \"19-2 Number of Enterprises for Real Estate Development (unit) Number of Domestic Enterprises Foreign Year Enterprises Invested State-owned Collective- with Investnent Invested Region Enterprises Enterprises owned from Hong Kong; Enterprises Enterprises Macao and Taiwan\"\n",
    "\n",
    "# Define a function to remove the specified sentence\n",
    "def remove_sentence(paragraph, sentence):\n",
    "    # Escape special characters in the sentence for regex\n",
    "    escaped_sentence = re.escape(sentence)\n",
    "    # Use regex to remove the sentence and any extra whitespace that may be left\n",
    "    modified_paragraph = re.sub(r'\\s*{}\\s*'.format(escaped_sentence), ' ', paragraph)\n",
    "    # Clean up any extra spaces created by removal\n",
    "    modified_paragraph = re.sub(r'\\s{2,}', ' ', modified_paragraph).strip()\n",
    "    return modified_paragraph\n",
    "\n",
    "# Remove the specified sentence from the paragraph\n",
    "updated_paragraph = remove_sentence(ex_paragraph, sentence_to_remove)\n",
    "\n",
    "# Display the updated paragraph\n",
    "print(updated_paragraph)"
   ]
  },
  {
   "cell_type": "code",
   "execution_count": 11,
   "metadata": {},
   "outputs": [
    {
     "name": "stdout",
     "output_type": "stream",
     "text": [
      "Result has been saved to E19_02.txt\n"
     ]
    }
   ],
   "source": [
    "def process_numbers(paragraph):\n",
    "    # Split the paragraph into individual numbers\n",
    "    numbers = paragraph.split()\n",
    "    \n",
    "    # Initialize a list to store the result lines\n",
    "    result_lines = []\n",
    "    \n",
    "    # Process the numbers in chunks of 7\n",
    "    for i in range(0, len(numbers), 7):\n",
    "        # Extract the current chunk of 7 numbers\n",
    "        chunk = numbers[i:i + 7]\n",
    "        \n",
    "        # If there are at least two numbers in the chunk, take the first two\n",
    "        if len(chunk) >= 2:\n",
    "            result_lines.append(f\"{chunk[0]} {chunk[1]}\")\n",
    "    \n",
    "    # Join the result lines with newline characters and return\n",
    "    return \"\\n\".join(result_lines)\n",
    "\n",
    "# Example usage\n",
    "paragraph = updated_paragraph\n",
    "result = process_numbers(paragraph)\n",
    "# print(result)\n",
    "with open(\"..\\..\\Data\\Preprocessed\\preprocessed_txt\\Real_estate\\E19_02.txt\", \"w\") as file:\n",
    "    file.write(result)\n",
    "\n",
    "print(\"Result has been saved to E19_02.txt\")"
   ]
  },
  {
   "cell_type": "code",
   "execution_count": 5,
   "metadata": {},
   "outputs": [
    {
     "name": "stdout",
     "output_type": "stream",
     "text": [
      "Skipping line due to conversion error: 201- 94197\n",
      "    Year  Number of Enterprises\n",
      "0   1998                 102852\n",
      "1   2000                 102852\n",
      "2   2005                 102852\n",
      "3   2006                 102852\n",
      "4   2007                 102852\n",
      "5   2008                 102852\n",
      "6   2009                 102852\n",
      "7   2010                 102852\n",
      "8   2011                 102852\n",
      "9   2012                 102852\n",
      "10  2013                 102852\n",
      "11  2015                 102852\n",
      "12  2016                 102852\n",
      "13  2017                 102852\n",
      "14  2018                 102852\n",
      "15  2019                 102852\n",
      "16  2020                 102852\n",
      "17  2021                 102852\n",
      "18  2022                 102852\n"
     ]
    }
   ],
   "source": [
    "# def create_dataframe_from_txt(file_path):\n",
    "#     # Initialize empty lists to store the data\n",
    "#     years = []\n",
    "#     num_enterprises_ls = []\n",
    "\n",
    "#     # Open and read the file\n",
    "#     with open(file_path, 'r') as file:\n",
    "#         for line in file:\n",
    "#             # Split the line into two parts\n",
    "#             parts = line.strip().split()\n",
    "#             if len(parts) == 2:\n",
    "#                 try:\n",
    "#                     # Convert the parts to integers and append to the lists\n",
    "#                     year = int(parts[0])\n",
    "#                     num_enterprises = int(parts[1])\n",
    "#                     years.append(year)\n",
    "#                     num_enterprises_ls.append(num_enterprises)\n",
    "#                 except ValueError:\n",
    "#                     # Handle the case where conversion to int fails\n",
    "#                     print(f\"Skipping line due to conversion error: {line.strip()}\")\n",
    "    \n",
    "#     # Create the DataFrame\n",
    "#     data = {'Year': years, 'Number of Enterprises': num_enterprises}\n",
    "#     df = pd.DataFrame(data)\n",
    "    \n",
    "#     return df\n",
    "\n",
    "# # Example usage\n",
    "# file_path = '..\\..\\Data\\Preprocessed\\preprocessed_txt\\Real_estate\\E19_02.txt'\n",
    "# df = create_dataframe_from_txt(file_path)\n",
    "# print(df)"
   ]
  },
  {
   "cell_type": "code",
   "execution_count": 6,
   "metadata": {},
   "outputs": [
    {
     "name": "stdout",
     "output_type": "stream",
     "text": [
      "    Year  Number of Enterprises\n",
      "0   1998                  24378\n",
      "1   2000                  27303\n",
      "2   2005                  56290\n",
      "3   2006                  58710\n",
      "4   2007                  62518\n",
      "5   2008                  87562\n",
      "6   2009                  80407\n",
      "7   2010                  85218\n",
      "8   2011                  88419\n",
      "9   2012                  89859\n",
      "10  2013                  91444\n",
      "11  2015                  93426\n",
      "12  2016                  94948\n",
      "13  2017                  95897\n",
      "14  2018                  97937\n",
      "15  2019                  99544\n",
      "16  2020                 103262\n",
      "17  2021                 105434\n",
      "18  2022                 102852\n"
     ]
    }
   ],
   "source": [
    "def create_dataframe_from_txt(file_path):\n",
    "    # Initialize empty lists to store the data\n",
    "    years = []\n",
    "    num_enterprises_list = []\n",
    "\n",
    "    # Open and read the file\n",
    "    with open(file_path, 'r') as file:\n",
    "        for line in file:\n",
    "            # Clean and split the line into parts using regex to handle different separators\n",
    "            parts = re.split(r'\\s+|[-]', line.strip())\n",
    "            if len(parts) == 2:\n",
    "                try:\n",
    "                    # Convert the parts to integers and append to the lists\n",
    "                    year = int(parts[0])\n",
    "                    num_enterprises = int(parts[1])\n",
    "                    years.append(year)\n",
    "                    num_enterprises_list.append(num_enterprises)\n",
    "                except ValueError:\n",
    "                    # Handle the case where conversion to int fails\n",
    "                    print(f\"Skipping line due to conversion error: {line.strip()}\")\n",
    "    \n",
    "    # Create the DataFrame\n",
    "    data = {'Year': years, 'Number of Enterprises': num_enterprises_list}\n",
    "    df = pd.DataFrame(data)\n",
    "    \n",
    "    return df\n",
    "\n",
    "# Example usage\n",
    "file_path = '..\\..\\Data\\Preprocessed\\preprocessed_txt\\Real_estate\\E19_02.txt'\n",
    "df = create_dataframe_from_txt(file_path)\n",
    "print(df)"
   ]
  },
  {
   "cell_type": "markdown",
   "metadata": {},
   "source": [
    "#### Plot line chart"
   ]
  },
  {
   "cell_type": "code",
   "execution_count": 13,
   "metadata": {},
   "outputs": [
    {
     "data": {
      "image/png": "[encoded data removed]",
      "text/plain": [
       "<Figure size 1500x600 with 1 Axes>"
      ]
     },
     "metadata": {},
     "output_type": "display_data"
    }
   ],
   "source": [
    "# def plot_line_chart(df):\n",
    "#     # Plot the line chart\n",
    "#     plt.figure(figsize=(10, 6))\n",
    "#     plt.plot(df['Year'], df['Number of Enterprises'], marker='o', linestyle='-', color='b')\n",
    "#     plt.xlabel('Year')\n",
    "#     plt.ylabel('Number of Enterprises')\n",
    "#     plt.title('Number of Enterprises Over Years')\n",
    "#     plt.grid(True)\n",
    "#     plt.show()\n",
    "\n",
    "def plot_line_chart(df):\n",
    "    # Plot the line chart\n",
    "    plt.figure(figsize=(15, 6))\n",
    "    plt.plot(df['Year'], df['Number of Enterprises'], marker='o', linestyle='-', color='b')\n",
    "    \n",
    "    # Set the ticks on the x-axis to be the specific years in the DataFrame\n",
    "    plt.xticks(df['Year'])\n",
    "    \n",
    "    plt.xlabel('Year')\n",
    "    plt.ylabel('Number of Enterprises')\n",
    "    plt.title('Number of Enterprises Over Years')\n",
    "    plt.grid(True)\n",
    "    plt.show()\n",
    "\n",
    "# Example usage\n",
    "# file_path = 'path_to_your_file.txt'\n",
    "# df = create_dataframe_from_txt(file_path)\n",
    "# print(df)\n",
    "plot_line_chart(df)"
   ]
  },
  {
   "cell_type": "code",
   "execution_count": null,
   "metadata": {},
   "outputs": [],
   "source": [
    "# # import re\n",
    "# # import pandas as pd\n",
    "# # from spellchecker import SpellChecker\n",
    "\n",
    "# def correct_spelling(line, spell_checker):\n",
    "#     # Split the line into words and check each word\n",
    "#     corrected_words = []\n",
    "#     for word in line.split():\n",
    "#         # Correct the word if it is misspelled\n",
    "#         corrected_word = spell_checker.correction(word) if word not in spell_checker else word\n",
    "#         corrected_words.append(corrected_word)\n",
    "#     return ' '.join(corrected_words)\n",
    "\n",
    "# def separate_lines(lines, spell_checker):\n",
    "#     # Define the regex pattern to find groups of words followed by 3 to 4 consecutive numbers\n",
    "#     pattern = re.compile(r'([a-zA-Z\\s\\(\\)_]+)((?:\\s\\d+(?:\\.\\d+)?_?){3,4})')\n",
    "    \n",
    "#     data = []\n",
    "#     for line in lines:\n",
    "#         # Correct the spelling of the line\n",
    "#         corrected_line = correct_spelling(line, spell_checker)\n",
    "        \n",
    "#         # Match the corrected line with the regex pattern\n",
    "#         match = pattern.match(corrected_line)\n",
    "#         if match:\n",
    "#             words = match.group(1).strip()\n",
    "#             numbers = match.group(2).strip().split()\n",
    "            \n",
    "#             # Ensure numbers length is exactly 4\n",
    "#             while len(numbers) < 4:\n",
    "#                 numbers.append(None)  # Fill missing numbers with None\n",
    "            \n",
    "#             # Append the data row\n",
    "#             data.append([words] + numbers[:4])\n",
    "    \n",
    "#     return data\n",
    "\n",
    "# # Specify the input text file name\n",
    "# input_txt = 'Txt_files\\Real_estate\\E19_02.txt'\n",
    "\n",
    "# # Create a spell checker instance\n",
    "# spell_checker = SpellChecker()\n",
    "\n",
    "# # Read lines from the text file\n",
    "# with open(input_txt, 'r') as file:\n",
    "#     lines = file.readlines()\n",
    "\n",
    "# # Strip newline characters from each line and apply spell checking\n",
    "# lines = [line.strip() for line in lines if line.strip()]\n",
    "\n",
    "# # Call the function to get the results\n",
    "# data = separate_lines(lines, spell_checker)\n",
    "\n",
    "# # Create a DataFrame with the specified columns\n",
    "# df = pd.DataFrame(data, columns=['Item', 'Year 1', 'Year 2', 'Year 3', 'Year 4'])\n",
    "\n",
    "# # Specify the output CSV file name\n",
    "# output_csv = 'output.csv'\n",
    "\n",
    "# # Write the DataFrame to the CSV file\n",
    "# df.to_csv(output_csv, index=False)\n",
    "\n",
    "# print(f\"The DataFrame has been saved to {output_csv}\")\n",
    "\n",
    "# # Display the DataFrame\n",
    "# print(df)\n"
   ]
  }
 ],
 "metadata": {
  "kernelspec": {
   "display_name": "Python 3",
   "language": "python",
   "name": "python3"
  },
  "language_info": {
   "codemirror_mode": {
    "name": "ipython",
    "version": 3
   },
   "file_extension": ".py",
   "mimetype": "text/x-python",
   "name": "python",
   "nbconvert_exporter": "python",
   "pygments_lexer": "ipython3",
   "version": "3.11.9"
  }
 },
 "nbformat": 4,
 "nbformat_minor": 2
}
